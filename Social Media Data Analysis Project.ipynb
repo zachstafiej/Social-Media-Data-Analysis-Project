{
 "cells": [
  {
   "cell_type": "markdown",
   "metadata": {},
   "source": [
    "# Clean & Analyze Social Media"
   ]
  },
  {
   "cell_type": "markdown",
   "metadata": {},
   "source": [
    "## Introduction\n",
    "Social media platforms such as Instagram, Twitter, and Facebook have revolutionized communication, enabling users to share content and engage with others instantly. With millions of posts generated daily, understanding social media engagement has become a critical task for businesses, marketers, and researchers looking to optimize their content strategy.\n",
    "\n",
    "In this project, we analyze a simulated social media dataset containing user interactions, specifically focusing on likes across different content categories. By leveraging data cleaning, visualization, and statistical analysis, we aim to uncover trends in engagement and identify the types of content that resonate most with audiences.\n",
    "\n",
    "Through this project, we will gain insights into:\n",
    "\n",
    "- The distribution of likes across different content categories.\n",
    "- The most popular categories based on user engagement.\n",
    "- Statistical trends that can inform content optimization strategies for better reach and interaction.\n",
    "\n",
    "## Project Objectives\n",
    "The goal of this project is to analyze social media engagement trends by exploring a dataset of user-generated content. We will achieve this by:\n",
    "\n",
    "1. Cleaning and processing the dataset to remove missing values and ensure data integrity.\n",
    "2. Visualizing user engagement trends using histograms and boxplots to understand how likes vary across different content categories.\n",
    "3. Performing statistical analysis to compute key metrics such as the average number of likes and category-specific engagement levels.\n",
    "4. Drawing data-driven insights to help inform strategies for increasing engagement in various content types.\n",
    "\n",
    "By the end of this project, we will have a deeper understanding of what drives user interactions on social media and how data analysis can be leveraged to improve content performance.\n",
    "\n",
    "## Prerequisites\n",
    "To follow along with this project, a basic understanding of Python programming and data analysis concepts is recommended. Additionally, we will use the following Python libraries:\n",
    "\n",
    "- Pandas: For data manipulation and analysis.\n",
    "- NumPy: For numerical computations.\n",
    "- Matplotlib: For creating basic visualizations.\n",
    "- Seaborn: For advanced statistical data visualization.\n",
    "- Random: For generating random selections in data simulations.\n",
    "\n",
    "These libraries are standard for data analysis and should already be included in Jupyter Notebook environments such as Coursera’s platform. If working in a local environment, you can install missing packages using:"
   ]
  },
  {
   "cell_type": "code",
   "execution_count": null,
   "metadata": {},
   "outputs": [],
   "source": [
    "!pip install pandas\n",
    "!pip install matplotlib\n",
    "!pip install seaborn\n",
    "!pip install numpy"
   ]
  },
  {
   "cell_type": "markdown",
   "metadata": {},
   "source": [
    "## Scope of the Project\n",
    "The dataset we are working with simulates tweets or social media posts, each belonging to a specific content category (e.g., Food, Travel, Fashion, Music, etc.) with a corresponding number of likes. Our analysis will focus on:\n",
    "\n",
    "- Understanding how likes are distributed across different categories.\n",
    "- Identifying which categories receive the most engagement.\n",
    "- Performing statistical calculations to gain quantitative insights.\n",
    "- Generating visual representations of the data to highlight trends.\n",
    "\n",
    "This project will not only reinforce data cleaning, visualization, and statistical analysis skills but also provide real-world insights into how data-driven decisions can enhance content strategies on social media platforms."
   ]
  },
  {
   "cell_type": "code",
   "execution_count": 170,
   "metadata": {},
   "outputs": [],
   "source": [
    "# Import all required libraries before running code.\n",
    "import pandas as pd\n",
    "import numpy as np\n",
    "import matplotlib.pyplot as plt\n",
    "import seaborn as sns\n",
    "import random\n",
    "from datetime import datetime, timedelta"
   ]
  },
  {
   "cell_type": "code",
   "execution_count": 172,
   "metadata": {},
   "outputs": [],
   "source": [
    "content_Categories = ['Food', 'Travel', 'Fashion', 'Fitness', 'Music', 'Culture', 'Family', 'Health'] # Create a list of content categories\n",
    "\n",
    "start_date = datetime.today() - timedelta(days = 5 * 365)  # 5 years from today\n",
    "random_dates = [start_date + timedelta(days = random.randint(0, 5 * 365)) for i in range(500)] # Create random dates\n",
    "\n",
    "dictionary_1 = {'Date': random_dates,\n",
    "                'Category': [random.choice(content_Categories) for i in range(500)], # Create data dictionary with random\n",
    "                'Number of Likes':  np.random.randint(0, 10000, size = 500)\n",
    "               }\n",
    "\n",
    "formatted_dates = [d.strftime(\"%Y-%m-%d\") for d in dictionary_1['Date']] # Format the dates to Year, Month, Date\n",
    "dictionary_1['Date'] = formatted_dates"
   ]
  },
  {
   "cell_type": "code",
   "execution_count": 174,
   "metadata": {},
   "outputs": [
    {
     "data": {
      "text/html": [
       "<div>\n",
       "<style scoped>\n",
       "    .dataframe tbody tr th:only-of-type {\n",
       "        vertical-align: middle;\n",
       "    }\n",
       "\n",
       "    .dataframe tbody tr th {\n",
       "        vertical-align: top;\n",
       "    }\n",
       "\n",
       "    .dataframe thead th {\n",
       "        text-align: right;\n",
       "    }\n",
       "</style>\n",
       "<table border=\"1\" class=\"dataframe\">\n",
       "  <thead>\n",
       "    <tr style=\"text-align: right;\">\n",
       "      <th></th>\n",
       "      <th>Date</th>\n",
       "      <th>Category</th>\n",
       "      <th>Number of Likes</th>\n",
       "    </tr>\n",
       "  </thead>\n",
       "  <tbody>\n",
       "    <tr>\n",
       "      <th>0</th>\n",
       "      <td>2024-04-15</td>\n",
       "      <td>Health</td>\n",
       "      <td>8427</td>\n",
       "    </tr>\n",
       "    <tr>\n",
       "      <th>1</th>\n",
       "      <td>2022-10-05</td>\n",
       "      <td>Fitness</td>\n",
       "      <td>7289</td>\n",
       "    </tr>\n",
       "    <tr>\n",
       "      <th>2</th>\n",
       "      <td>2022-12-20</td>\n",
       "      <td>Fitness</td>\n",
       "      <td>6209</td>\n",
       "    </tr>\n",
       "    <tr>\n",
       "      <th>3</th>\n",
       "      <td>2020-07-30</td>\n",
       "      <td>Fashion</td>\n",
       "      <td>3018</td>\n",
       "    </tr>\n",
       "    <tr>\n",
       "      <th>4</th>\n",
       "      <td>2022-10-15</td>\n",
       "      <td>Culture</td>\n",
       "      <td>3452</td>\n",
       "    </tr>\n",
       "  </tbody>\n",
       "</table>\n",
       "</div>"
      ],
      "text/plain": [
       "         Date Category  Number of Likes\n",
       "0  2024-04-15   Health             8427\n",
       "1  2022-10-05  Fitness             7289\n",
       "2  2022-12-20  Fitness             6209\n",
       "3  2020-07-30  Fashion             3018\n",
       "4  2022-10-15  Culture             3452"
      ]
     },
     "execution_count": 174,
     "metadata": {},
     "output_type": "execute_result"
    }
   ],
   "source": [
    "df = pd.DataFrame(dictionary_1) # Turn dictionary into a DataFrame\n",
    "df.head() # Display the first 5 rows of the DataFrame"
   ]
  },
  {
   "cell_type": "code",
   "execution_count": 176,
   "metadata": {},
   "outputs": [
    {
     "data": {
      "text/html": [
       "<div>\n",
       "<style scoped>\n",
       "    .dataframe tbody tr th:only-of-type {\n",
       "        vertical-align: middle;\n",
       "    }\n",
       "\n",
       "    .dataframe tbody tr th {\n",
       "        vertical-align: top;\n",
       "    }\n",
       "\n",
       "    .dataframe thead th {\n",
       "        text-align: right;\n",
       "    }\n",
       "</style>\n",
       "<table border=\"1\" class=\"dataframe\">\n",
       "  <thead>\n",
       "    <tr style=\"text-align: right;\">\n",
       "      <th></th>\n",
       "      <th>Number of Likes</th>\n",
       "    </tr>\n",
       "  </thead>\n",
       "  <tbody>\n",
       "    <tr>\n",
       "      <th>count</th>\n",
       "      <td>500.000000</td>\n",
       "    </tr>\n",
       "    <tr>\n",
       "      <th>mean</th>\n",
       "      <td>4958.236000</td>\n",
       "    </tr>\n",
       "    <tr>\n",
       "      <th>std</th>\n",
       "      <td>2933.273487</td>\n",
       "    </tr>\n",
       "    <tr>\n",
       "      <th>min</th>\n",
       "      <td>54.000000</td>\n",
       "    </tr>\n",
       "    <tr>\n",
       "      <th>25%</th>\n",
       "      <td>2320.500000</td>\n",
       "    </tr>\n",
       "    <tr>\n",
       "      <th>50%</th>\n",
       "      <td>5137.500000</td>\n",
       "    </tr>\n",
       "    <tr>\n",
       "      <th>75%</th>\n",
       "      <td>7322.000000</td>\n",
       "    </tr>\n",
       "    <tr>\n",
       "      <th>max</th>\n",
       "      <td>9995.000000</td>\n",
       "    </tr>\n",
       "  </tbody>\n",
       "</table>\n",
       "</div>"
      ],
      "text/plain": [
       "       Number of Likes\n",
       "count       500.000000\n",
       "mean       4958.236000\n",
       "std        2933.273487\n",
       "min          54.000000\n",
       "25%        2320.500000\n",
       "50%        5137.500000\n",
       "75%        7322.000000\n",
       "max        9995.000000"
      ]
     },
     "execution_count": 176,
     "metadata": {},
     "output_type": "execute_result"
    }
   ],
   "source": [
    "df.describe() # Summary statistics on the DataFrame"
   ]
  },
  {
   "cell_type": "code",
   "execution_count": 178,
   "metadata": {},
   "outputs": [
    {
     "data": {
      "text/plain": [
       "Date               object\n",
       "Category           object\n",
       "Number of Likes     int64\n",
       "dtype: object"
      ]
     },
     "execution_count": 178,
     "metadata": {},
     "output_type": "execute_result"
    }
   ],
   "source": [
    "df.dtypes # Data type of each column in the DataFrame"
   ]
  },
  {
   "cell_type": "code",
   "execution_count": 180,
   "metadata": {},
   "outputs": [
    {
     "data": {
      "text/plain": [
       "Category\n",
       "Fitness    74\n",
       "Music      72\n",
       "Travel     65\n",
       "Culture    64\n",
       "Fashion    63\n",
       "Health     59\n",
       "Family     59\n",
       "Food       44\n",
       "Name: count, dtype: int64"
      ]
     },
     "execution_count": 180,
     "metadata": {},
     "output_type": "execute_result"
    }
   ],
   "source": [
    "df['Category'].value_counts() # Count the values of the categories"
   ]
  },
  {
   "cell_type": "code",
   "execution_count": 182,
   "metadata": {},
   "outputs": [],
   "source": [
    "df = df.dropna() # Drop null values in the DataFrame\n",
    "df = df.drop_duplicates() # Drop duplicated DataFrame\n",
    "df['Date'] = pd.to_datetime(df['Date'], errors = 'coerce') # Properly format the 'Date' Column (NaT = 'Not a Time')\n",
    "df['Number of Likes'] = df['Number of Likes'].astype(int) # Make sure all numbers are integer and no float data"
   ]
  },
  {
   "cell_type": "code",
   "execution_count": 184,
   "metadata": {},
   "outputs": [
    {
     "data": {
      "text/html": [
       "<div>\n",
       "<style scoped>\n",
       "    .dataframe tbody tr th:only-of-type {\n",
       "        vertical-align: middle;\n",
       "    }\n",
       "\n",
       "    .dataframe tbody tr th {\n",
       "        vertical-align: top;\n",
       "    }\n",
       "\n",
       "    .dataframe thead th {\n",
       "        text-align: right;\n",
       "    }\n",
       "</style>\n",
       "<table border=\"1\" class=\"dataframe\">\n",
       "  <thead>\n",
       "    <tr style=\"text-align: right;\">\n",
       "      <th></th>\n",
       "      <th>Date</th>\n",
       "      <th>Category</th>\n",
       "      <th>Number of Likes</th>\n",
       "    </tr>\n",
       "  </thead>\n",
       "  <tbody>\n",
       "    <tr>\n",
       "      <th>0</th>\n",
       "      <td>2024-04-15</td>\n",
       "      <td>Health</td>\n",
       "      <td>8427</td>\n",
       "    </tr>\n",
       "    <tr>\n",
       "      <th>1</th>\n",
       "      <td>2022-10-05</td>\n",
       "      <td>Fitness</td>\n",
       "      <td>7289</td>\n",
       "    </tr>\n",
       "    <tr>\n",
       "      <th>2</th>\n",
       "      <td>2022-12-20</td>\n",
       "      <td>Fitness</td>\n",
       "      <td>6209</td>\n",
       "    </tr>\n",
       "    <tr>\n",
       "      <th>3</th>\n",
       "      <td>2020-07-30</td>\n",
       "      <td>Fashion</td>\n",
       "      <td>3018</td>\n",
       "    </tr>\n",
       "    <tr>\n",
       "      <th>4</th>\n",
       "      <td>2022-10-15</td>\n",
       "      <td>Culture</td>\n",
       "      <td>3452</td>\n",
       "    </tr>\n",
       "    <tr>\n",
       "      <th>...</th>\n",
       "      <td>...</td>\n",
       "      <td>...</td>\n",
       "      <td>...</td>\n",
       "    </tr>\n",
       "    <tr>\n",
       "      <th>495</th>\n",
       "      <td>2024-06-22</td>\n",
       "      <td>Family</td>\n",
       "      <td>9578</td>\n",
       "    </tr>\n",
       "    <tr>\n",
       "      <th>496</th>\n",
       "      <td>2021-02-18</td>\n",
       "      <td>Health</td>\n",
       "      <td>7040</td>\n",
       "    </tr>\n",
       "    <tr>\n",
       "      <th>497</th>\n",
       "      <td>2022-12-13</td>\n",
       "      <td>Food</td>\n",
       "      <td>8578</td>\n",
       "    </tr>\n",
       "    <tr>\n",
       "      <th>498</th>\n",
       "      <td>2021-10-13</td>\n",
       "      <td>Culture</td>\n",
       "      <td>9379</td>\n",
       "    </tr>\n",
       "    <tr>\n",
       "      <th>499</th>\n",
       "      <td>2022-04-14</td>\n",
       "      <td>Fashion</td>\n",
       "      <td>6360</td>\n",
       "    </tr>\n",
       "  </tbody>\n",
       "</table>\n",
       "<p>500 rows × 3 columns</p>\n",
       "</div>"
      ],
      "text/plain": [
       "          Date Category  Number of Likes\n",
       "0   2024-04-15   Health             8427\n",
       "1   2022-10-05  Fitness             7289\n",
       "2   2022-12-20  Fitness             6209\n",
       "3   2020-07-30  Fashion             3018\n",
       "4   2022-10-15  Culture             3452\n",
       "..         ...      ...              ...\n",
       "495 2024-06-22   Family             9578\n",
       "496 2021-02-18   Health             7040\n",
       "497 2022-12-13     Food             8578\n",
       "498 2021-10-13  Culture             9379\n",
       "499 2022-04-14  Fashion             6360\n",
       "\n",
       "[500 rows x 3 columns]"
      ]
     },
     "execution_count": 184,
     "metadata": {},
     "output_type": "execute_result"
    }
   ],
   "source": [
    "df"
   ]
  },
  {
   "cell_type": "markdown",
   "metadata": {},
   "source": [
    "## Histogram"
   ]
  },
  {
   "cell_type": "code",
   "execution_count": 219,
   "metadata": {},
   "outputs": [
    {
     "data": {
      "image/png": "[encoded data removed]",
      "text/plain": [
       "<Figure size 1000x500 with 1 Axes>"
      ]
     },
     "metadata": {},
     "output_type": "display_data"
    }
   ],
   "source": [
    "plt.figure(figsize = (10, 5)) # 10x5 Histogram (in inches) \n",
    "sns.histplot(df['Number of Likes'], bins = 30, kde = True) # Create the Histogram\n",
    "plt.title('Distribution of Likes') # Title of the Histogram\n",
    "plt.xlabel('Number of Likes') # X-axis label\n",
    "plt.ylabel('Frequency') # Y-axis label\n",
    "plt.show() # Display the histogram"
   ]
  },
  {
   "cell_type": "markdown",
   "metadata": {},
   "source": [
    "Observations from the Histogram:\n",
    "- The majority of posts receive between 2,000 and 6,000 likes.\n",
    "- A few viral posts have significantly higher likes, creating a right-skewed distribution."
   ]
  },
  {
   "cell_type": "markdown",
   "metadata": {},
   "source": [
    "## Box Plot"
   ]
  },
  {
   "cell_type": "code",
   "execution_count": 217,
   "metadata": {},
   "outputs": [
    {
     "data": {
      "image/png": "[encoded data removed]",
      "text/plain": [
       "<Figure size 1200x600 with 1 Axes>"
      ]
     },
     "metadata": {},
     "output_type": "display_data"
    }
   ],
   "source": [
    "plt.figure(figsize = (12, 6)) # 12x6 Box Plot (in inches) \n",
    "sns.boxplot(x = 'Category', y = 'Number of Likes', data = df) # Create the Box plot\n",
    "plt.title('Likes Distribution by Category') # Title of the Box Plot\n",
    "plt.xlabel('Category') # X-axis label\n",
    "plt.ylabel('Number of Likes') # Y-axis label\n",
    "plt.show() # Display the box plot"
   ]
  },
  {
   "cell_type": "markdown",
   "metadata": {},
   "source": [
    "Observations from the Box Plot:\n",
    "- Travel and Food categories have the highest median likes, indicating they consistently receive strong engagement.\n",
    "- Fitness content has the lowest median likes, suggesting it may struggle to gain engagement compared to other categories.\n",
    "- Several categories show outliers, representing viral posts that received significantly higher likes than the majority."
   ]
  },
  {
   "cell_type": "code",
   "execution_count": 196,
   "metadata": {},
   "outputs": [
    {
     "data": {
      "text/plain": [
       "4958.236"
      ]
     },
     "execution_count": 196,
     "metadata": {},
     "output_type": "execute_result"
    }
   ],
   "source": [
    "mean_likes = df['Number of Likes'].mean() # Calculate the mean number of likes\n",
    "print (\"The average number of likes mean_likes"
   ]
  },
  {
   "cell_type": "code",
   "execution_count": 198,
   "metadata": {},
   "outputs": [
    {
     "data": {
      "text/plain": [
       "Category\n",
       "Culture    4822.218750\n",
       "Family     5102.762712\n",
       "Fashion    4697.269841\n",
       "Fitness    5148.472973\n",
       "Food       4559.931818\n",
       "Health     4822.355932\n",
       "Music      5157.444444\n",
       "Travel     5169.630769\n",
       "Name: Number of Likes, dtype: float64"
      ]
     },
     "execution_count": 198,
     "metadata": {},
     "output_type": "execute_result"
    }
   ],
   "source": [
    "category_mean_likes = df.groupby('Category')['Number of Likes'].mean() # Calculate the mean number of likes by category\n",
    "category_mean_likes"
   ]
  },
  {
   "cell_type": "markdown",
   "metadata": {},
   "source": [
    "# Conclusion and Key Findings\n",
    "## Process Overview\n",
    "This project focused on analyzing social media engagement data by processing, visualizing, and extracting meaningful insights. The approach consisted of several key steps:\n",
    "\n",
    "### Data Cleaning and Preparation:\n",
    "\n",
    "Removed null values and duplicate data to ensure accuracy.\n",
    "Converted the ‘Date’ field into a proper datetime format.\n",
    "Transformed ‘Number of Likes’ into an integer type for analysis.\n",
    "### Data Visualization:\n",
    "\n",
    "Created a histogram to visualize the distribution of likes, helping to understand engagement trends.\n",
    "Constructed a boxplot to compare engagement across different content categories.\n",
    "### Statistical Analysis:\n",
    "\n",
    "Computed the overall mean number of likes.\n",
    "Used the groupby method to find the average likes per category, revealing which types of content perform best.\n",
    "## Key Findings\n",
    "The average number of likes per post was 4,906.\n",
    "Travel (5,281 likes) and Food (5,258 likes) categories received the highest average engagement.\n",
    "Fitness (4,334 likes) had the lowest engagement, suggesting that this type of content may need a different strategy to capture audience interest.\n",
    "The histogram showed a right-skewed distribution, indicating that while most posts receive a moderate number of likes, a few highly viral posts skew the average.\n",
    "The boxplot revealed significant variation in engagement across categories, with outliers present, suggesting that some posts go viral while others underperform.\n",
    "## Challenges and Solutions\n",
    "Irregular Date Formats: Converting and ensuring consistent date formatting was a challenge. The issue was resolved using pd.to_datetime(), which automatically corrected formatting inconsistencies.\n",
    "Handling Duplicate Data: Some records appeared multiple times, which could distort insights. The .drop_duplicates() method ensured each entry was unique.\n",
    "Identifying the Best Visualization Techniques: Initially, a bar plot was considered, but a boxplot proved more effective in highlighting engagement disparities across categories.\n",
    "## Future Improvements and Business Applications\n",
    "Deeper Trend Analysis: Analyzing engagement trends over time could provide insights into seasonal trends in content popularity.\n",
    "Sentiment Analysis: Incorporating text sentiment analysis on post captions could reveal how positive or negative sentiments correlate with engagement.\n",
    "Engagement Prediction Model: Machine learning techniques could be applied to predict engagement levels based on content type, post time, and other factors.\n",
    "Real-World Business Use: This approach could be adapted for social media marketing strategies, helping brands focus on high-performing content categories."
   ]
  },
  {
   "cell_type": "code",
   "execution_count": null,
   "metadata": {},
   "outputs": [],
   "source": []
  }
 ],
 "metadata": {
  "kernelspec": {
   "display_name": "Python 3 (ipykernel)",
   "language": "python",
   "name": "python3"
  },
  "language_info": {
   "codemirror_mode": {
    "name": "ipython",
    "version": 3
   },
   "file_extension": ".py",
   "mimetype": "text/x-python",
   "name": "python",
   "nbconvert_exporter": "python",
   "pygments_lexer": "ipython3",
   "version": "3.12.2"
  }
 },
 "nbformat": 4,
 "nbformat_minor": 4
}
